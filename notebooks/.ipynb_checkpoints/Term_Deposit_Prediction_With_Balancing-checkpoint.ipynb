{
 "cells": [
  {
   "cell_type": "markdown",
   "id": "a7824e4a-5c91-455a-a96c-d94a1fa4f7c2",
   "metadata": {},
   "source": [
    "# Term Deposit Subscription Prediction\n",
    "### Problem Statement:\n",
    "Predict whether a bank customer will subscribe to a term deposit as a result of a direct marketing campaign, based on various customer attributes and historical campaign data.\n",
    "\n",
    "### Objective:\n",
    "The primary objective is to build and evaluate classification models (e.g., Logistic Regression, Random Forest) to accurately predict term deposit subscriptions. This involves loading and exploring the dataset, preprocessing features, performing exploratory data analysis, training models, evaluating their performance using metrics like Confusion Matrix, F1-Score, ROC Curve, and Accuracy, and gaining insights into customer behavior."
   ]
  },
  {
   "cell_type": "code",
   "execution_count": null,
   "id": "d162c03b-19da-4c7f-b7c9-10c5b6ac8a3f",
   "metadata": {},
   "outputs": [],
   "source": [
    "!python -m pip install shap\n"
   ]
  },
  {
   "cell_type": "code",
   "execution_count": null,
   "id": "3ffa028f-6429-4db1-8e02-9ba7d8961b5b",
   "metadata": {},
   "outputs": [],
   "source": [
    "!python -m pip install numpy==2.2.0 --force-reinstall\n",
    "\n"
   ]
  },
  {
   "cell_type": "code",
   "execution_count": null,
   "id": "95ca4352-ff82-4543-b4de-1f1a0fc0264b",
   "metadata": {},
   "outputs": [],
   "source": [
    "!python -m pip install matplotlib\n"
   ]
  },
  {
   "cell_type": "code",
   "execution_count": null,
   "id": "dd624604-3f2e-431f-917e-bdf157c82b10",
   "metadata": {},
   "outputs": [],
   "source": [
    "!python -m pip install seaborn\n"
   ]
  },
  {
   "cell_type": "code",
   "execution_count": null,
   "id": "525a7361-64c1-4ba5-b0da-7b7171dcfb9f",
   "metadata": {},
   "outputs": [],
   "source": [
    "!python -m pip install pandas\n"
   ]
  },
  {
   "cell_type": "code",
   "execution_count": null,
   "id": "6ab221c9-093f-492a-8920-db9e02d84672",
   "metadata": {},
   "outputs": [],
   "source": []
  },
  {
   "cell_type": "markdown",
   "id": "6707f69b-158a-449e-99f8-a039968c6b04",
   "metadata": {},
   "source": [
    "### Import Libraries"
   ]
  },
  {
   "cell_type": "code",
   "execution_count": 1,
   "id": "0cb90e65-a734-42f4-9339-2f78a9810e42",
   "metadata": {},
   "outputs": [
    {
     "name": "stderr",
     "output_type": "stream",
     "text": [
      "IProgress not found. Please update jupyter and ipywidgets. See https://ipywidgets.readthedocs.io/en/stable/user_install.html\n"
     ]
    }
   ],
   "source": [
    "import pandas as pd\n",
    "import numpy as np\n",
    "import matplotlib.pyplot as plt\n",
    "import seaborn as sns\n",
    "\n",
    "from sklearn.model_selection import train_test_split\n",
    "from sklearn.preprocessing import StandardScaler\n",
    "from sklearn.linear_model import LogisticRegression\n",
    "from sklearn.ensemble import RandomForestClassifier\n",
    "from sklearn.metrics import confusion_matrix, classification_report, f1_score, roc_auc_score, roc_curve\n",
    "\n",
    "import shap\n",
    "import warnings\n",
    "warnings.filterwarnings('ignore')\n"
   ]
  },
  {
   "cell_type": "markdown",
   "id": "a7bed3c9-4f04-443d-b407-c30cfbefec33",
   "metadata": {},
   "source": [
    "### Load and clean the dataset"
   ]
  },
  {
   "cell_type": "code",
   "execution_count": 3,
   "id": "4c9ef797-e96d-470a-ade8-a5d014088d31",
   "metadata": {},
   "outputs": [
    {
     "name": "stdout",
     "output_type": "stream",
     "text": [
      "Top 5 rows of dataset\n",
      "\n",
      "   age          job  marital  education default  balance housing loan  \\\n",
      "0   30   unemployed  married    primary      no     1787      no   no   \n",
      "1   33     services  married  secondary      no     4789     yes  yes   \n",
      "2   35   management   single   tertiary      no     1350     yes   no   \n",
      "3   30   management  married   tertiary      no     1476     yes  yes   \n",
      "4   59  blue-collar  married  secondary      no        0     yes   no   \n",
      "\n",
      "    contact  day month  duration  campaign  pdays  previous poutcome  y  \n",
      "0  cellular   19   oct        79         1     -1         0  unknown  0  \n",
      "1  cellular   11   may       220         1    339         4  failure  0  \n",
      "2  cellular   16   apr       185         1    330         1  failure  0  \n",
      "3   unknown    3   jun       199         4     -1         0  unknown  0  \n",
      "4   unknown    5   may       226         1     -1         0  unknown  0  \n",
      "\n",
      "Dataset Description\n",
      "\n",
      "               age       balance          day     duration     campaign  \\\n",
      "count  4521.000000   4521.000000  4521.000000  4521.000000  4521.000000   \n",
      "mean     41.170095   1422.657819    15.915284   263.961292     2.793630   \n",
      "std      10.576211   3009.638142     8.247667   259.856633     3.109807   \n",
      "min      19.000000  -3313.000000     1.000000     4.000000     1.000000   \n",
      "25%      33.000000     69.000000     9.000000   104.000000     1.000000   \n",
      "50%      39.000000    444.000000    16.000000   185.000000     2.000000   \n",
      "75%      49.000000   1480.000000    21.000000   329.000000     3.000000   \n",
      "max      87.000000  71188.000000    31.000000  3025.000000    50.000000   \n",
      "\n",
      "             pdays     previous            y  \n",
      "count  4521.000000  4521.000000  4521.000000  \n",
      "mean     39.766645     0.542579     0.115240  \n",
      "std     100.121124     1.693562     0.319347  \n",
      "min      -1.000000     0.000000     0.000000  \n",
      "25%      -1.000000     0.000000     0.000000  \n",
      "50%      -1.000000     0.000000     0.000000  \n",
      "75%      -1.000000     0.000000     0.000000  \n",
      "max     871.000000    25.000000     1.000000  \n"
     ]
    }
   ],
   "source": [
    "df = pd.read_csv(\"../data/bank.csv\")\n",
    "print(\"Top 5 rows of dataset\\n\")\n",
    "print(df.head())\n",
    "print(\"\\nDataset Description\\n\")\n",
    "print(df.describe())\n",
    "# Remove leading/trailing spaces from column names\n",
    "df.columns = df.columns.str.strip()\n"
   ]
  },
  {
   "cell_type": "markdown",
   "id": "dae97f17-ac9f-461c-a58f-77b9c07f7d32",
   "metadata": {},
   "source": [
    "### Clean and preprocess the target column"
   ]
  },
  {
   "cell_type": "code",
   "execution_count": 4,
   "id": "dc10ec66-69bc-4ffd-a913-4844719d7967",
   "metadata": {},
   "outputs": [
    {
     "name": "stdout",
     "output_type": "stream",
     "text": [
      "Unique values before conversion: [0 1]\n",
      "Unique values after conversion: [0 1]\n"
     ]
    }
   ],
   "source": [
    "\n",
    "print(\"Unique values before conversion:\", df['y'].unique())\n",
    "\n",
    "# Convert string '0'/'1' to integer 0/1\n",
    "df['y'] = df['y'].astype(int)\n",
    "\n",
    "print(\"Unique values after conversion:\", df['y'].unique())"
   ]
  },
  {
   "cell_type": "markdown",
   "id": "bba6bbe2-2270-4dfa-9a4b-0211507404ef",
   "metadata": {},
   "source": [
    "### Exploratory Data Analysis (EDA)"
   ]
  },
  {
   "cell_type": "code",
   "execution_count": 5,
   "id": "f69f3640-37ed-4d05-a715-db176aa023ef",
   "metadata": {},
   "outputs": [
    {
     "name": "stdout",
     "output_type": "stream",
     "text": [
      "\n",
      "Target class distribution:\n",
      "y\n",
      "0    0.88476\n",
      "1    0.11524\n",
      "Name: proportion, dtype: float64\n"
     ]
    },
    {
     "data": {
      "image/png": "[encoded data removed]",
      "text/plain": [
       "<Figure size 640x480 with 1 Axes>"
      ]
     },
     "metadata": {},
     "output_type": "display_data"
    }
   ],
   "source": [
    "print(\"\\nTarget class distribution:\")\n",
    "print(df['y'].value_counts(normalize=True))\n",
    "\n",
    "# Visualize target distribution\n",
    "sns.countplot(x='y', data=df)\n",
    "plt.title(\"Target Class Distribution\")\n",
    "plt.show()\n",
    "\n"
   ]
  },
  {
   "cell_type": "code",
   "execution_count": 6,
   "id": "ac9472b9-3102-450b-adc4-a477f5c991b3",
   "metadata": {},
   "outputs": [
    {
     "data": {
      "image/png": "[encoded data removed]",
      "text/plain": [
       "<Figure size 1200x600 with 2 Axes>"
      ]
     },
     "metadata": {},
     "output_type": "display_data"
    }
   ],
   "source": [
    "# Correlation heatmap for numeric features\n",
    "plt.figure(figsize=(12, 6))\n",
    "sns.heatmap(df.corr(numeric_only=True), annot=True, cmap=\"coolwarm\", fmt=\".2f\")\n",
    "plt.title(\"Correlation Heatmap\")\n",
    "plt.show()"
   ]
  },
  {
   "cell_type": "markdown",
   "id": "2fd1b34a-bd18-4433-9241-7070c9d82153",
   "metadata": {},
   "source": [
    "### Preprocessing"
   ]
  },
  {
   "cell_type": "code",
   "execution_count": null,
   "id": "b7585611-cfc4-4a59-9926-5a11bcd43077",
   "metadata": {},
   "outputs": [],
   "source": [
    "\n",
    "# One-hot encode categorical features\n",
    "df_encoded = pd.get_dummies(df, drop_first=True)\n",
    "\n",
    "# Separate features and target\n",
    "X = df_encoded.drop('y', axis=1)\n",
    "y = df_encoded['y']"
   ]
  },
  {
   "cell_type": "markdown",
   "id": "bed1aa61-de20-4b3d-af1b-63dba012d329",
   "metadata": {},
   "source": [
    "### Train-test split"
   ]
  },
  {
   "cell_type": "code",
   "execution_count": null,
   "id": "cd604f49-5e0a-4b43-994d-77877618ce1d",
   "metadata": {},
   "outputs": [],
   "source": [
    "\n",
    "X_train, X_test, y_train, y_test = train_test_split(\n",
    "    X, y, stratify=y, test_size=0.2, random_state=42\n",
    ")"
   ]
  },
  {
   "cell_type": "markdown",
   "id": "8e1903c6-a0d7-46ae-a455-b9759d6136ef",
   "metadata": {},
   "source": [
    "### Feature Scaling with column names preserved"
   ]
  },
  {
   "cell_type": "code",
   "execution_count": null,
   "id": "4c3f915a-298b-4157-8e41-86882cd8be04",
   "metadata": {},
   "outputs": [],
   "source": [
    "\n",
    "scaler = StandardScaler()\n",
    "X_train_scaled = pd.DataFrame(scaler.fit_transform(X_train), columns=X_train.columns)\n",
    "X_test_scaled = pd.DataFrame(scaler.transform(X_test), columns=X_test.columns)\n"
   ]
  },
  {
   "cell_type": "markdown",
   "id": "66bace5c-c4aa-4b43-9082-c913a6ee6fae",
   "metadata": {},
   "source": [
    "### Model Training"
   ]
  },
  {
   "cell_type": "markdown",
   "id": "2c25c483-9f4c-4b37-9d90-38ae67e69d1f",
   "metadata": {},
   "source": [
    "##### Logistic Regression"
   ]
  },
  {
   "cell_type": "code",
   "execution_count": null,
   "id": "28c6ada6-1b68-44c9-89f3-a52a60f19191",
   "metadata": {},
   "outputs": [],
   "source": [
    "log_model = LogisticRegression(max_iter=1000)\n",
    "log_model.fit(X_train_scaled, y_train)\n"
   ]
  },
  {
   "cell_type": "markdown",
   "id": "9c78f901-58f7-4351-aeda-6c19549db6b4",
   "metadata": {},
   "source": [
    "##### Random Forest"
   ]
  },
  {
   "cell_type": "code",
   "execution_count": null,
   "id": "2b1e0d1a-21f7-4203-a48b-ed4650368d07",
   "metadata": {},
   "outputs": [],
   "source": [
    "rf_model = RandomForestClassifier(n_estimators=100, random_state=42)\n",
    "rf_model.fit(X_train, y_train)  # Trees don't need scaling"
   ]
  },
  {
   "cell_type": "markdown",
   "id": "0ab7306c-1e0d-495d-a62a-fc724b273e5f",
   "metadata": {},
   "source": [
    "### Model Evaluation"
   ]
  },
  {
   "cell_type": "markdown",
   "id": "41625d25-b2c6-4b62-805f-b521fcff0e79",
   "metadata": {},
   "source": [
    "##### Logistic Regression Model Evaluation"
   ]
  },
  {
   "cell_type": "code",
   "execution_count": null,
   "id": "8f609e4e-08da-47bb-b2dd-7ebf6da80e35",
   "metadata": {},
   "outputs": [],
   "source": [
    "from sklearn.metrics import f1_score, roc_auc_score, classification_report, confusion_matrix, roc_curve\n",
    "import seaborn as sns\n",
    "import matplotlib.pyplot as plt\n",
    "\n",
    "# Predictions and probabilities\n",
    "log_preds = log_model.predict(X_test_scaled)\n",
    "log_proba = log_model.predict_proba(X_test_scaled)[:, 1]\n",
    "\n",
    "# Evaluation metrics\n",
    "print(\"\\n--- Logistic Regression Evaluation ---\")\n",
    "print(\"F1 Score:\", f1_score(y_test, log_preds))\n",
    "print(\"ROC AUC Score:\", roc_auc_score(y_test, log_proba))\n",
    "print(\"Classification Report:\\n\", classification_report(y_test, log_preds))\n",
    "\n",
    "# Confusion Matrix\n",
    "sns.heatmap(confusion_matrix(y_test, log_preds), annot=True, fmt='d', cmap=\"YlGnBu\")\n",
    "plt.title(\"Logistic Regression - Confusion Matrix\")\n",
    "plt.xlabel(\"Predicted\")\n",
    "plt.ylabel(\"Actual\")\n",
    "plt.show()\n",
    "\n",
    "# ROC Curve\n",
    "fpr_log, tpr_log, _ = roc_curve(y_test, log_proba)\n",
    "plt.plot(fpr_log, tpr_log, label=f\"Logistic Regression AUC = {roc_auc_score(y_test, log_proba):.2f}\")\n",
    "plt.plot([0, 1], [0, 1], linestyle=\"--\")\n",
    "plt.title(\"ROC Curve - Logistic Regression\")\n",
    "plt.xlabel(\"False Positive Rate\")\n",
    "plt.ylabel(\"True Positive Rate\")\n",
    "plt.legend()\n",
    "plt.show()\n"
   ]
  },
  {
   "cell_type": "markdown",
   "id": "74d9ce50-e42b-4527-b505-4b466e5ebcec",
   "metadata": {},
   "source": [
    "##### Random Forest Model Evaluation"
   ]
  },
  {
   "cell_type": "code",
   "execution_count": null,
   "id": "228f5304-7540-4f02-9f79-aef04266c3b2",
   "metadata": {},
   "outputs": [],
   "source": [
    "# Predictions and probabilities\n",
    "rf_preds = rf_model.predict(X_test)\n",
    "rf_proba = rf_model.predict_proba(X_test)[:, 1]\n",
    "\n",
    "# Evaluation metrics\n",
    "print(\"\\n--- Random Forest Evaluation ---\")\n",
    "print(\"F1 Score:\", f1_score(y_test, rf_preds))\n",
    "print(\"ROC AUC Score:\", roc_auc_score(y_test, rf_proba))\n",
    "print(\"Classification Report:\\n\", classification_report(y_test, rf_preds))\n",
    "\n",
    "# Confusion Matrix\n",
    "sns.heatmap(confusion_matrix(y_test, rf_preds), annot=True, fmt='d', cmap=\"YlGnBu\")\n",
    "plt.title(\"Random Forest - Confusion Matrix\")\n",
    "plt.xlabel(\"Predicted\")\n",
    "plt.ylabel(\"Actual\")\n",
    "plt.show()\n",
    "\n",
    "# ROC Curve\n",
    "fpr_rf, tpr_rf, _ = roc_curve(y_test, rf_proba)\n",
    "plt.plot(fpr_rf, tpr_rf, label=f\"Random Forest AUC = {roc_auc_score(y_test, rf_proba):.2f}\")\n",
    "plt.plot([0, 1], [0, 1], linestyle=\"--\")\n",
    "plt.title(\"ROC Curve - Random Forest\")\n",
    "plt.xlabel(\"False Positive Rate\")\n",
    "plt.ylabel(\"True Positive Rate\")\n",
    "plt.legend()\n",
    "plt.show()\n"
   ]
  },
  {
   "cell_type": "markdown",
   "id": "3d49fdbe-ac6a-401d-9197-183f291aea00",
   "metadata": {},
   "source": [
    "### Model Explanation"
   ]
  },
  {
   "cell_type": "code",
   "execution_count": null,
   "id": "a1226d16-4c2b-4818-89a9-fb0ec2b68509",
   "metadata": {},
   "outputs": [],
   "source": [
    "import shap\n",
    "\n",
    "print(\"\\n--- SHAP Explanation: Logistic Regression ---\")\n",
    "# Create SHAP explainer for logistic regression\n",
    "log_explainer = shap.Explainer(log_model, X_train_scaled, feature_names=X.columns)\n",
    "log_shap_values = log_explainer(X_test_scaled[:5])\n",
    "\n",
    "# Plot waterfall plots for first 5 predictions\n",
    "for i in range(5):\n",
    "    print(f\"Waterfall Plot - Logistic Regression Prediction {i+1}\")\n",
    "    shap.plots.waterfall(log_shap_values[i], max_display=10)\n"
   ]
  },
  {
   "cell_type": "code",
   "execution_count": null,
   "id": "7e0c4253-9a31-4047-9d33-c0a4cfeae4a2",
   "metadata": {},
   "outputs": [],
   "source": [
    "# Step 10: SHAP Explanation (for 5 predictions)\n",
    "explainer = shap.Explainer(model, X_train_scaled, feature_names=X.columns)\n",
    "shap_values = explainer(X_test_scaled[:5])\n",
    "\n",
    "# Show SHAP summary for 5 predictions\n",
    "shap.plots.waterfall(shap_values[0], max_display=10)\n",
    "shap.plots.waterfall(shap_values[1], max_display=10)\n",
    "shap.plots.waterfall(shap_values[2], max_display=10)\n",
    "shap.plots.waterfall(shap_values[3], max_display=10)\n",
    "shap.plots.waterfall(shap_values[4], max_display=10)"
   ]
  },
  {
   "cell_type": "code",
   "execution_count": null,
   "id": "0bdaf2dd-2255-42ec-8cc4-d95bbdc19c3e",
   "metadata": {},
   "outputs": [],
   "source": [
    "print(\"\\n--- SHAP Explanation: Random Forest ---\")\n",
    "# Create SHAP explainer for random forest\n",
    "rf_explainer = shap.Explainer(rf_model, X_train, feature_names=X.columns)\n",
    "rf_shap_values = rf_explainer(X_test[:5])\n",
    "\n",
    "# Plot waterfall plots for first 5 predictions\n",
    "for i in range(5):\n",
    "    print(f\"Waterfall Plot - Random Forest Prediction {i+1}\")\n",
    "    shap.plots.waterfall(rf_shap_values[i], max_display=10)\n"
   ]
  },
  {
   "cell_type": "code",
   "execution_count": null,
   "id": "e5a68872-4c98-4cf7-8561-ba20bce347bf",
   "metadata": {},
   "outputs": [],
   "source": [
    "print(X_train.dtypes)\n"
   ]
  },
  {
   "cell_type": "code",
   "execution_count": null,
   "id": "ccf525e3-2404-4129-91c2-913ca6987727",
   "metadata": {},
   "outputs": [],
   "source": [
    "import shap\n",
    "import numpy as np\n",
    "import matplotlib.pyplot as plt\n",
    "\n",
    "print(\"\\n--- SHAP Explanation: Random Forest ---\")\n",
    "\n",
    "# Step 1: Convert bools to int (required for SHAP)\n",
    "X_train_rf = X_train.astype(int)\n",
    "X_test_rf = X_test.astype(int)\n",
    "\n",
    "# Step 2: Use TreeExplainer on the trained Random Forest model\n",
    "rf_explainer = shap.TreeExplainer(rf_model)\n",
    "\n",
    "# Step 3: Compute SHAP values for 5 test samples\n",
    "# This will return a list of arrays: [shap_values_class0, shap_values_class1]\n",
    "rf_shap_values = rf_explainer.shap_values(X_test_rf[:5])\n",
    "\n",
    "# Step 4: Extract SHAP values for class 1 (positive class)\n",
    "rf_shap_values_class1 = rf_shap_values[1]  # index 1 → class 1 shap values\n",
    "\n",
    "# Step 5: Loop through each instance and plot\n",
    "for i in range(5):\n",
    "    print(f\"Waterfall Plot - Random Forest Prediction {i+1}\")\n",
    "    shap.plots._waterfall.waterfall_legacy(\n",
    "        expected_value=rf_explainer.expected_value[1],\n",
    "        shap_values=rf_shap_values_class1[i],\n",
    "        features=X_test_rf.iloc[i],\n",
    "        feature_names=X_test_rf.columns,\n",
    "        max_display=10\n",
    "    )\n",
    "    plt.show()\n"
   ]
  },
  {
   "cell_type": "code",
   "execution_count": null,
   "id": "fa3aa195-93cb-4390-8c56-98afa8603ded",
   "metadata": {},
   "outputs": [],
   "source": []
  },
  {
   "cell_type": "markdown",
   "id": "896809f4",
   "metadata": {},
   "source": [
    "### ✅ Updated Model Training with `class_weight='balanced'`"
   ]
  },
  {
   "cell_type": "code",
   "execution_count": null,
   "id": "40270985",
   "metadata": {},
   "outputs": [],
   "source": [
    "\n",
    "from sklearn.linear_model import LogisticRegression\n",
    "from sklearn.ensemble import RandomForestClassifier\n",
    "\n",
    "# Logistic Regression with class_weight\n",
    "lr = LogisticRegression(class_weight='balanced', max_iter=1000)\n",
    "lr.fit(X_train, y_train)\n",
    "y_pred_lr_balanced = lr.predict(X_test)\n",
    "print(\"Logistic Regression with class_weight='balanced'\")\n",
    "print(classification_report(y_test, y_pred_lr_balanced))\n"
   ]
  },
  {
   "cell_type": "code",
   "execution_count": null,
   "id": "189d34c3",
   "metadata": {},
   "outputs": [],
   "source": [
    "\n",
    "# Random Forest with class_weight\n",
    "rf = RandomForestClassifier(class_weight='balanced', random_state=42)\n",
    "rf.fit(X_train, y_train)\n",
    "y_pred_rf_balanced = rf.predict(X_test)\n",
    "print(\"Random Forest with class_weight='balanced'\")\n",
    "print(classification_report(y_test, y_pred_rf_balanced))\n"
   ]
  },
  {
   "cell_type": "markdown",
   "id": "63532878",
   "metadata": {},
   "source": [
    "### 🔄 Apply SMOTE for Class Balancing"
   ]
  },
  {
   "cell_type": "code",
   "execution_count": null,
   "id": "99730f8a",
   "metadata": {},
   "outputs": [],
   "source": [
    "\n",
    "from imblearn.over_sampling import SMOTE\n",
    "\n",
    "# Apply SMOTE to training data\n",
    "smote = SMOTE(random_state=42)\n",
    "X_train_smote, y_train_smote = smote.fit_resample(X_train, y_train)\n",
    "\n",
    "# Train Random Forest on SMOTE data\n",
    "rf_smote = RandomForestClassifier(random_state=42)\n",
    "rf_smote.fit(X_train_smote, y_train_smote)\n",
    "y_pred_rf_smote = rf_smote.predict(X_test)\n",
    "\n",
    "print(\"Random Forest with SMOTE\")\n",
    "print(classification_report(y_test, y_pred_rf_smote))\n"
   ]
  }
 ],
 "metadata": {
  "kernelspec": {
   "display_name": "Python 3 (ipykernel)",
   "language": "python",
   "name": "python3"
  },
  "language_info": {
   "codemirror_mode": {
    "name": "ipython",
    "version": 3
   },
   "file_extension": ".py",
   "mimetype": "text/x-python",
   "name": "python",
   "nbconvert_exporter": "python",
   "pygments_lexer": "ipython3",
   "version": "3.8.10"
  }
 },
 "nbformat": 4,
 "nbformat_minor": 5
}
